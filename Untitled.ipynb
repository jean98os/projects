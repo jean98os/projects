{
 "cells": [
  {
   "cell_type": "markdown",
   "id": "dc69f16f",
   "metadata": {},
   "source": [
    "# Data Analysis of Crime in New York"
   ]
  },
  {
   "cell_type": "markdown",
   "id": "247815d7",
   "metadata": {},
   "source": [
    "I chose to analyse data from the dataset NYPD Complaint Data, which is comprised of all the misdemeanor, felony and violation crimes that were recorded between 2006 and 2019 by the New York Police Department.\n",
    "\n",
    "There are over 7 million reports (rows) but I will only be loading/previewing the first 1,000 rows."
   ]
  },
  {
   "cell_type": "code",
   "execution_count": 1,
   "id": "b6deb7a8",
   "metadata": {},
   "outputs": [],
   "source": [
    "import pandas as pd\n",
    "import numpy as np\n",
    "import matplotlib.pyplot as plt"
   ]
  },
  {
   "cell_type": "code",
   "execution_count": 2,
   "id": "8aba48de-cab7-4bf5-94a1-877e42da2454",
   "metadata": {},
   "outputs": [
    {
     "name": "stderr",
     "output_type": "stream",
     "text": [
      "/Applications/anaconda3/lib/python3.9/site-packages/IPython/core/interactiveshell.py:3444: DtypeWarning: Columns (18,20) have mixed types.Specify dtype option on import or set low_memory=False.\n",
      "  exec(code_obj, self.user_global_ns, self.user_ns)\n"
     ]
    }
   ],
   "source": [
    "nRowsRead = 1000\n",
    "\n",
    "# NYPD_Complaint_Data_Historic.csv has more rows (> 7 million reports), but we are only loading/previewing the first 1000 rows\n",
    "\n",
    "df = pd.read_csv('NYPD_Complaint_Data_Historic2.csv')\n",
    "df.dataframeName = 'NYPD_Complaint_Data_Historic2.csv'\n",
    "nRow, nCol = df.shape"
   ]
  },
  {
   "cell_type": "markdown",
   "id": "ac4d3c67",
   "metadata": {},
   "source": [
    "## Pre-processing the Data"
   ]
  },
  {
   "cell_type": "code",
   "execution_count": 3,
   "id": "2906030f-5cae-48e2-932c-7c8efb939b9f",
   "metadata": {
    "scrolled": true
   },
   "outputs": [
    {
     "name": "stdout",
     "output_type": "stream",
     "text": [
      "There are 6983207 rows and 35 columns\n"
     ]
    }
   ],
   "source": [
    "# prints the total number of rows & columns\n",
    "print(f'There are {nRow} rows and {nCol} columns')"
   ]
  },
  {
   "cell_type": "code",
   "execution_count": 4,
   "id": "c2e8d46c-2ca3-47e4-9667-bc61f33bda32",
   "metadata": {},
   "outputs": [
    {
     "data": {
      "text/plain": [
       "(6983207, 35)"
      ]
     },
     "execution_count": 4,
     "metadata": {},
     "output_type": "execute_result"
    }
   ],
   "source": [
    "# returns a tuple that represents the dimensionality of the dataset\n",
    "df.shape"
   ]
  },
  {
   "cell_type": "markdown",
   "id": "e035b3b8",
   "metadata": {},
   "source": [
    "I wanted to check the amount of missing values in the dataset."
   ]
  },
  {
   "cell_type": "code",
   "execution_count": 5,
   "id": "2b491e17-559d-44b1-a131-ff456b21829d",
   "metadata": {},
   "outputs": [
    {
     "data": {
      "text/plain": [
       "CMPLNT_NUM                 0\n",
       "CMPLNT_FR_DT             655\n",
       "CMPLNT_FR_TM              48\n",
       "CMPLNT_TO_DT         1668376\n",
       "CMPLNT_TO_TM         1663829\n",
       "ADDR_PCT_CD             2166\n",
       "RPT_DT                     0\n",
       "KY_CD                      0\n",
       "OFNS_DESC              18825\n",
       "PD_CD                   5865\n",
       "PD_DESC                 5865\n",
       "CRM_ATPT_CPTD_CD           7\n",
       "LAW_CAT_CD                 0\n",
       "BORO_NM                10894\n",
       "LOC_OF_OCCUR_DESC    1479992\n",
       "PREM_TYP_DESC          39732\n",
       "JURIS_DESC                 0\n",
       "JURISDICTION_CODE       5865\n",
       "PARKS_NM             6958159\n",
       "HADEVELOPT           6637179\n",
       "HOUSING_PSA          6446298\n",
       "X_COORD_CD             24064\n",
       "Y_COORD_CD             24064\n",
       "SUSP_AGE_GROUP       4707573\n",
       "SUSP_RACE            3339032\n",
       "SUSP_SEX             3472346\n",
       "TRANSIT_DISTRICT     6826123\n",
       "Latitude               24064\n",
       "Longitude              24064\n",
       "Lat_Lon                24064\n",
       "PATROL_BORO             6322\n",
       "STATION_NAME         6826123\n",
       "VIC_AGE_GROUP        1638444\n",
       "VIC_RACE                 308\n",
       "VIC_SEX                  307\n",
       "dtype: int64"
      ]
     },
     "execution_count": 5,
     "metadata": {},
     "output_type": "execute_result"
    }
   ],
   "source": [
    "# prints the count of missing values in each column\n",
    "df.isnull().sum()"
   ]
  },
  {
   "cell_type": "markdown",
   "id": "e6cd6e13",
   "metadata": {},
   "source": [
    "I want to see the different variable types in the dataset"
   ]
  },
  {
   "cell_type": "code",
   "execution_count": 6,
   "id": "cb0fa01c-7182-4e0c-866c-f3b0154ab015",
   "metadata": {},
   "outputs": [
    {
     "data": {
      "text/plain": [
       "CMPLNT_NUM             int64\n",
       "CMPLNT_FR_DT          object\n",
       "CMPLNT_FR_TM          object\n",
       "CMPLNT_TO_DT          object\n",
       "CMPLNT_TO_TM          object\n",
       "ADDR_PCT_CD          float64\n",
       "RPT_DT                object\n",
       "KY_CD                  int64\n",
       "OFNS_DESC             object\n",
       "PD_CD                float64\n",
       "PD_DESC               object\n",
       "CRM_ATPT_CPTD_CD      object\n",
       "LAW_CAT_CD            object\n",
       "BORO_NM               object\n",
       "LOC_OF_OCCUR_DESC     object\n",
       "PREM_TYP_DESC         object\n",
       "JURIS_DESC            object\n",
       "JURISDICTION_CODE    float64\n",
       "PARKS_NM              object\n",
       "HADEVELOPT            object\n",
       "HOUSING_PSA           object\n",
       "X_COORD_CD           float64\n",
       "Y_COORD_CD           float64\n",
       "SUSP_AGE_GROUP        object\n",
       "SUSP_RACE             object\n",
       "SUSP_SEX              object\n",
       "TRANSIT_DISTRICT     float64\n",
       "Latitude             float64\n",
       "Longitude            float64\n",
       "Lat_Lon               object\n",
       "PATROL_BORO           object\n",
       "STATION_NAME          object\n",
       "VIC_AGE_GROUP         object\n",
       "VIC_RACE              object\n",
       "VIC_SEX               object\n",
       "dtype: object"
      ]
     },
     "execution_count": 6,
     "metadata": {},
     "output_type": "execute_result"
    }
   ],
   "source": [
    "# shows the different variable types\n",
    "df.dtypes"
   ]
  },
  {
   "cell_type": "code",
   "execution_count": 7,
   "id": "3887fa8c-626a-47d8-aa80-6059f6fb5a72",
   "metadata": {},
   "outputs": [
    {
     "data": {
      "text/html": [
       "<div>\n",
       "<style scoped>\n",
       "    .dataframe tbody tr th:only-of-type {\n",
       "        vertical-align: middle;\n",
       "    }\n",
       "\n",
       "    .dataframe tbody tr th {\n",
       "        vertical-align: top;\n",
       "    }\n",
       "\n",
       "    .dataframe thead th {\n",
       "        text-align: right;\n",
       "    }\n",
       "</style>\n",
       "<table border=\"1\" class=\"dataframe\">\n",
       "  <thead>\n",
       "    <tr style=\"text-align: right;\">\n",
       "      <th></th>\n",
       "      <th>CMPLNT_NUM</th>\n",
       "      <th>CMPLNT_FR_DT</th>\n",
       "      <th>CMPLNT_FR_TM</th>\n",
       "      <th>CMPLNT_TO_DT</th>\n",
       "      <th>CMPLNT_TO_TM</th>\n",
       "      <th>ADDR_PCT_CD</th>\n",
       "      <th>RPT_DT</th>\n",
       "      <th>KY_CD</th>\n",
       "      <th>OFNS_DESC</th>\n",
       "      <th>PD_CD</th>\n",
       "      <th>...</th>\n",
       "      <th>SUSP_SEX</th>\n",
       "      <th>TRANSIT_DISTRICT</th>\n",
       "      <th>Latitude</th>\n",
       "      <th>Longitude</th>\n",
       "      <th>Lat_Lon</th>\n",
       "      <th>PATROL_BORO</th>\n",
       "      <th>STATION_NAME</th>\n",
       "      <th>VIC_AGE_GROUP</th>\n",
       "      <th>VIC_RACE</th>\n",
       "      <th>VIC_SEX</th>\n",
       "    </tr>\n",
       "  </thead>\n",
       "  <tbody>\n",
       "    <tr>\n",
       "      <th>0</th>\n",
       "      <td>700381962</td>\n",
       "      <td>05/28/2015</td>\n",
       "      <td>15:00:00</td>\n",
       "      <td>NaN</td>\n",
       "      <td>NaN</td>\n",
       "      <td>46.0</td>\n",
       "      <td>06/01/2015</td>\n",
       "      <td>578</td>\n",
       "      <td>HARRASSMENT 2</td>\n",
       "      <td>638.0</td>\n",
       "      <td>...</td>\n",
       "      <td>M</td>\n",
       "      <td>NaN</td>\n",
       "      <td>40.845868</td>\n",
       "      <td>-73.915888</td>\n",
       "      <td>(40.84586773, -73.915888033)</td>\n",
       "      <td>PATROL BORO BRONX</td>\n",
       "      <td>NaN</td>\n",
       "      <td>25-44</td>\n",
       "      <td>WHITE HISPANIC</td>\n",
       "      <td>F</td>\n",
       "    </tr>\n",
       "    <tr>\n",
       "      <th>1</th>\n",
       "      <td>642234217</td>\n",
       "      <td>10/28/2013</td>\n",
       "      <td>13:50:00</td>\n",
       "      <td>10/28/2013</td>\n",
       "      <td>13:50:00</td>\n",
       "      <td>120.0</td>\n",
       "      <td>10/28/2013</td>\n",
       "      <td>351</td>\n",
       "      <td>CRIMINAL MISCHIEF &amp; RELATED OF</td>\n",
       "      <td>259.0</td>\n",
       "      <td>...</td>\n",
       "      <td>NaN</td>\n",
       "      <td>NaN</td>\n",
       "      <td>40.627061</td>\n",
       "      <td>-74.077149</td>\n",
       "      <td>(40.627060894, -74.077149232)</td>\n",
       "      <td>PATROL BORO STATEN ISLAND</td>\n",
       "      <td>NaN</td>\n",
       "      <td>45-64</td>\n",
       "      <td>WHITE</td>\n",
       "      <td>M</td>\n",
       "    </tr>\n",
       "    <tr>\n",
       "      <th>2</th>\n",
       "      <td>242465164</td>\n",
       "      <td>05/09/2012</td>\n",
       "      <td>20:50:00</td>\n",
       "      <td>05/09/2012</td>\n",
       "      <td>21:00:00</td>\n",
       "      <td>24.0</td>\n",
       "      <td>05/09/2012</td>\n",
       "      <td>236</td>\n",
       "      <td>DANGEROUS WEAPONS</td>\n",
       "      <td>782.0</td>\n",
       "      <td>...</td>\n",
       "      <td>NaN</td>\n",
       "      <td>NaN</td>\n",
       "      <td>40.800966</td>\n",
       "      <td>-73.969047</td>\n",
       "      <td>(40.800965968, -73.969047272)</td>\n",
       "      <td>PATROL BORO MAN NORTH</td>\n",
       "      <td>NaN</td>\n",
       "      <td>NaN</td>\n",
       "      <td>UNKNOWN</td>\n",
       "      <td>E</td>\n",
       "    </tr>\n",
       "    <tr>\n",
       "      <th>3</th>\n",
       "      <td>927207428</td>\n",
       "      <td>01/03/2014</td>\n",
       "      <td>13:30:00</td>\n",
       "      <td>01/03/2014</td>\n",
       "      <td>13:35:00</td>\n",
       "      <td>108.0</td>\n",
       "      <td>01/03/2014</td>\n",
       "      <td>109</td>\n",
       "      <td>GRAND LARCENY</td>\n",
       "      <td>409.0</td>\n",
       "      <td>...</td>\n",
       "      <td>M</td>\n",
       "      <td>NaN</td>\n",
       "      <td>40.745242</td>\n",
       "      <td>-73.894253</td>\n",
       "      <td>(40.745241809, -73.894253382)</td>\n",
       "      <td>PATROL BORO QUEENS NORTH</td>\n",
       "      <td>NaN</td>\n",
       "      <td>45-64</td>\n",
       "      <td>ASIAN / PACIFIC ISLANDER</td>\n",
       "      <td>M</td>\n",
       "    </tr>\n",
       "    <tr>\n",
       "      <th>4</th>\n",
       "      <td>492142357</td>\n",
       "      <td>04/13/2016</td>\n",
       "      <td>00:00:00</td>\n",
       "      <td>NaN</td>\n",
       "      <td>NaN</td>\n",
       "      <td>40.0</td>\n",
       "      <td>04/13/2016</td>\n",
       "      <td>351</td>\n",
       "      <td>CRIMINAL MISCHIEF &amp; RELATED OF</td>\n",
       "      <td>258.0</td>\n",
       "      <td>...</td>\n",
       "      <td>NaN</td>\n",
       "      <td>NaN</td>\n",
       "      <td>40.810352</td>\n",
       "      <td>-73.924942</td>\n",
       "      <td>(40.810351863, -73.924942326)</td>\n",
       "      <td>PATROL BORO BRONX</td>\n",
       "      <td>NaN</td>\n",
       "      <td>UNKNOWN</td>\n",
       "      <td>UNKNOWN</td>\n",
       "      <td>E</td>\n",
       "    </tr>\n",
       "  </tbody>\n",
       "</table>\n",
       "<p>5 rows × 35 columns</p>\n",
       "</div>"
      ],
      "text/plain": [
       "   CMPLNT_NUM CMPLNT_FR_DT CMPLNT_FR_TM CMPLNT_TO_DT CMPLNT_TO_TM  \\\n",
       "0   700381962   05/28/2015     15:00:00          NaN          NaN   \n",
       "1   642234217   10/28/2013     13:50:00   10/28/2013     13:50:00   \n",
       "2   242465164   05/09/2012     20:50:00   05/09/2012     21:00:00   \n",
       "3   927207428   01/03/2014     13:30:00   01/03/2014     13:35:00   \n",
       "4   492142357   04/13/2016     00:00:00          NaN          NaN   \n",
       "\n",
       "   ADDR_PCT_CD      RPT_DT  KY_CD                       OFNS_DESC  PD_CD  ...  \\\n",
       "0         46.0  06/01/2015    578                   HARRASSMENT 2  638.0  ...   \n",
       "1        120.0  10/28/2013    351  CRIMINAL MISCHIEF & RELATED OF  259.0  ...   \n",
       "2         24.0  05/09/2012    236               DANGEROUS WEAPONS  782.0  ...   \n",
       "3        108.0  01/03/2014    109                   GRAND LARCENY  409.0  ...   \n",
       "4         40.0  04/13/2016    351  CRIMINAL MISCHIEF & RELATED OF  258.0  ...   \n",
       "\n",
       "  SUSP_SEX TRANSIT_DISTRICT   Latitude  Longitude  \\\n",
       "0        M              NaN  40.845868 -73.915888   \n",
       "1      NaN              NaN  40.627061 -74.077149   \n",
       "2      NaN              NaN  40.800966 -73.969047   \n",
       "3        M              NaN  40.745242 -73.894253   \n",
       "4      NaN              NaN  40.810352 -73.924942   \n",
       "\n",
       "                         Lat_Lon                PATROL_BORO STATION_NAME  \\\n",
       "0   (40.84586773, -73.915888033)          PATROL BORO BRONX          NaN   \n",
       "1  (40.627060894, -74.077149232)  PATROL BORO STATEN ISLAND          NaN   \n",
       "2  (40.800965968, -73.969047272)      PATROL BORO MAN NORTH          NaN   \n",
       "3  (40.745241809, -73.894253382)   PATROL BORO QUEENS NORTH          NaN   \n",
       "4  (40.810351863, -73.924942326)          PATROL BORO BRONX          NaN   \n",
       "\n",
       "   VIC_AGE_GROUP                  VIC_RACE VIC_SEX  \n",
       "0          25-44            WHITE HISPANIC       F  \n",
       "1          45-64                     WHITE       M  \n",
       "2            NaN                   UNKNOWN       E  \n",
       "3          45-64  ASIAN / PACIFIC ISLANDER       M  \n",
       "4        UNKNOWN                   UNKNOWN       E  \n",
       "\n",
       "[5 rows x 35 columns]"
      ]
     },
     "execution_count": 7,
     "metadata": {},
     "output_type": "execute_result"
    }
   ],
   "source": [
    "df.head()"
   ]
  },
  {
   "cell_type": "markdown",
   "id": "d9b39154",
   "metadata": {},
   "source": [
    "I decided to drop columns I felt were not important for future data exploration, for example 'HOUSING_PSA' which contained Development Level Codes in relation to the housing projects.\n",
    "\n",
    "I dropped rows with NaN values.\n",
    "\n",
    "I replaced the NaN values in 'LOC_OF_OCCUR_DESC' (in or around the area where the crime was reported to have taken place) with Unknown, as well as 'VIC_RACE', 'VIC_AGE_GROUP' and 'VIC_SEX'."
   ]
  },
  {
   "cell_type": "code",
   "execution_count": 8,
   "id": "5153cc19-1c8f-4454-a760-e2c8f19d48cd",
   "metadata": {},
   "outputs": [],
   "source": [
    "#dropping rows with NaN values\n",
    "df.dropna(subset=['Y_COORD_CD','X_COORD_CD','Latitude','Longitude','CRM_ATPT_CPTD_CD','CMPLNT_FR_TM','Lat_Lon','CMPLNT_FR_DT','BORO_NM','OFNS_DESC'], inplace=True)\n",
    "\n",
    "#dropping columns that are not significant for future data exploration\n",
    "df.drop(['STATION_NAME','TRANSIT_DISTRICT','HADEVELOPT','HOUSING_PSA'],axis='columns', inplace=True)\n",
    "\n",
    "df.drop(['PREM_TYP_DESC','SUSP_AGE_GROUP','SUSP_SEX','SUSP_RACE','JURISDICTION_CODE'], axis='columns', inplace=True)\n",
    "\n",
    "df.drop(['ADDR_PCT_CD','PD_CD','PD_DESC','PATROL_BORO','CMPLNT_TO_DT','CMPLNT_TO_TM'], axis='columns', inplace=True)\n",
    "\n"
   ]
  },
  {
   "cell_type": "code",
   "execution_count": 9,
   "id": "d047385e-fc0d-484f-8740-d602dd0cad1e",
   "metadata": {},
   "outputs": [
    {
     "data": {
      "text/html": [
       "<div>\n",
       "<style scoped>\n",
       "    .dataframe tbody tr th:only-of-type {\n",
       "        vertical-align: middle;\n",
       "    }\n",
       "\n",
       "    .dataframe tbody tr th {\n",
       "        vertical-align: top;\n",
       "    }\n",
       "\n",
       "    .dataframe thead th {\n",
       "        text-align: right;\n",
       "    }\n",
       "</style>\n",
       "<table border=\"1\" class=\"dataframe\">\n",
       "  <thead>\n",
       "    <tr style=\"text-align: right;\">\n",
       "      <th></th>\n",
       "      <th>CMPLNT_NUM</th>\n",
       "      <th>CMPLNT_FR_DT</th>\n",
       "      <th>CMPLNT_FR_TM</th>\n",
       "      <th>RPT_DT</th>\n",
       "      <th>KY_CD</th>\n",
       "      <th>OFNS_DESC</th>\n",
       "      <th>CRM_ATPT_CPTD_CD</th>\n",
       "      <th>LAW_CAT_CD</th>\n",
       "      <th>BORO_NM</th>\n",
       "      <th>LOC_OF_OCCUR_DESC</th>\n",
       "      <th>JURIS_DESC</th>\n",
       "      <th>PARKS_NM</th>\n",
       "      <th>X_COORD_CD</th>\n",
       "      <th>Y_COORD_CD</th>\n",
       "      <th>Latitude</th>\n",
       "      <th>Longitude</th>\n",
       "      <th>Lat_Lon</th>\n",
       "      <th>VIC_AGE_GROUP</th>\n",
       "      <th>VIC_RACE</th>\n",
       "      <th>VIC_SEX</th>\n",
       "    </tr>\n",
       "  </thead>\n",
       "  <tbody>\n",
       "    <tr>\n",
       "      <th>0</th>\n",
       "      <td>700381962</td>\n",
       "      <td>05/28/2015</td>\n",
       "      <td>15:00:00</td>\n",
       "      <td>06/01/2015</td>\n",
       "      <td>578</td>\n",
       "      <td>HARRASSMENT 2</td>\n",
       "      <td>COMPLETED</td>\n",
       "      <td>VIOLATION</td>\n",
       "      <td>BRONX</td>\n",
       "      <td>INSIDE</td>\n",
       "      <td>N.Y. POLICE DEPT</td>\n",
       "      <td>NaN</td>\n",
       "      <td>1007522.0</td>\n",
       "      <td>247458.0</td>\n",
       "      <td>40.845868</td>\n",
       "      <td>-73.915888</td>\n",
       "      <td>(40.84586773, -73.915888033)</td>\n",
       "      <td>25-44</td>\n",
       "      <td>WHITE HISPANIC</td>\n",
       "      <td>F</td>\n",
       "    </tr>\n",
       "    <tr>\n",
       "      <th>1</th>\n",
       "      <td>642234217</td>\n",
       "      <td>10/28/2013</td>\n",
       "      <td>13:50:00</td>\n",
       "      <td>10/28/2013</td>\n",
       "      <td>351</td>\n",
       "      <td>CRIMINAL MISCHIEF &amp; RELATED OF</td>\n",
       "      <td>COMPLETED</td>\n",
       "      <td>MISDEMEANOR</td>\n",
       "      <td>STATEN ISLAND</td>\n",
       "      <td>INSIDE</td>\n",
       "      <td>N.Y. POLICE DEPT</td>\n",
       "      <td>NaN</td>\n",
       "      <td>962835.0</td>\n",
       "      <td>167738.0</td>\n",
       "      <td>40.627061</td>\n",
       "      <td>-74.077149</td>\n",
       "      <td>(40.627060894, -74.077149232)</td>\n",
       "      <td>45-64</td>\n",
       "      <td>WHITE</td>\n",
       "      <td>M</td>\n",
       "    </tr>\n",
       "    <tr>\n",
       "      <th>2</th>\n",
       "      <td>242465164</td>\n",
       "      <td>05/09/2012</td>\n",
       "      <td>20:50:00</td>\n",
       "      <td>05/09/2012</td>\n",
       "      <td>236</td>\n",
       "      <td>DANGEROUS WEAPONS</td>\n",
       "      <td>COMPLETED</td>\n",
       "      <td>MISDEMEANOR</td>\n",
       "      <td>MANHATTAN</td>\n",
       "      <td>UNKNOWN</td>\n",
       "      <td>N.Y. POLICE DEPT</td>\n",
       "      <td>NaN</td>\n",
       "      <td>992820.0</td>\n",
       "      <td>231089.0</td>\n",
       "      <td>40.800966</td>\n",
       "      <td>-73.969047</td>\n",
       "      <td>(40.800965968, -73.969047272)</td>\n",
       "      <td>UNKNOWN</td>\n",
       "      <td>UNKNOWN</td>\n",
       "      <td>E</td>\n",
       "    </tr>\n",
       "    <tr>\n",
       "      <th>3</th>\n",
       "      <td>927207428</td>\n",
       "      <td>01/03/2014</td>\n",
       "      <td>13:30:00</td>\n",
       "      <td>01/03/2014</td>\n",
       "      <td>109</td>\n",
       "      <td>GRAND LARCENY</td>\n",
       "      <td>ATTEMPTED</td>\n",
       "      <td>FELONY</td>\n",
       "      <td>QUEENS</td>\n",
       "      <td>INSIDE</td>\n",
       "      <td>N.Y. POLICE DEPT</td>\n",
       "      <td>NaN</td>\n",
       "      <td>1013552.0</td>\n",
       "      <td>210803.0</td>\n",
       "      <td>40.745242</td>\n",
       "      <td>-73.894253</td>\n",
       "      <td>(40.745241809, -73.894253382)</td>\n",
       "      <td>45-64</td>\n",
       "      <td>ASIAN / PACIFIC ISLANDER</td>\n",
       "      <td>M</td>\n",
       "    </tr>\n",
       "    <tr>\n",
       "      <th>4</th>\n",
       "      <td>492142357</td>\n",
       "      <td>04/13/2016</td>\n",
       "      <td>00:00:00</td>\n",
       "      <td>04/13/2016</td>\n",
       "      <td>351</td>\n",
       "      <td>CRIMINAL MISCHIEF &amp; RELATED OF</td>\n",
       "      <td>COMPLETED</td>\n",
       "      <td>MISDEMEANOR</td>\n",
       "      <td>BRONX</td>\n",
       "      <td>UNKNOWN</td>\n",
       "      <td>N.Y. POLICE DEPT</td>\n",
       "      <td>NaN</td>\n",
       "      <td>1005028.0</td>\n",
       "      <td>234516.0</td>\n",
       "      <td>40.810352</td>\n",
       "      <td>-73.924942</td>\n",
       "      <td>(40.810351863, -73.924942326)</td>\n",
       "      <td>UNKNOWN</td>\n",
       "      <td>UNKNOWN</td>\n",
       "      <td>E</td>\n",
       "    </tr>\n",
       "  </tbody>\n",
       "</table>\n",
       "</div>"
      ],
      "text/plain": [
       "   CMPLNT_NUM CMPLNT_FR_DT CMPLNT_FR_TM      RPT_DT  KY_CD  \\\n",
       "0   700381962   05/28/2015     15:00:00  06/01/2015    578   \n",
       "1   642234217   10/28/2013     13:50:00  10/28/2013    351   \n",
       "2   242465164   05/09/2012     20:50:00  05/09/2012    236   \n",
       "3   927207428   01/03/2014     13:30:00  01/03/2014    109   \n",
       "4   492142357   04/13/2016     00:00:00  04/13/2016    351   \n",
       "\n",
       "                        OFNS_DESC CRM_ATPT_CPTD_CD   LAW_CAT_CD  \\\n",
       "0                   HARRASSMENT 2        COMPLETED    VIOLATION   \n",
       "1  CRIMINAL MISCHIEF & RELATED OF        COMPLETED  MISDEMEANOR   \n",
       "2               DANGEROUS WEAPONS        COMPLETED  MISDEMEANOR   \n",
       "3                   GRAND LARCENY        ATTEMPTED       FELONY   \n",
       "4  CRIMINAL MISCHIEF & RELATED OF        COMPLETED  MISDEMEANOR   \n",
       "\n",
       "         BORO_NM LOC_OF_OCCUR_DESC        JURIS_DESC PARKS_NM  X_COORD_CD  \\\n",
       "0          BRONX            INSIDE  N.Y. POLICE DEPT      NaN   1007522.0   \n",
       "1  STATEN ISLAND            INSIDE  N.Y. POLICE DEPT      NaN    962835.0   \n",
       "2      MANHATTAN           UNKNOWN  N.Y. POLICE DEPT      NaN    992820.0   \n",
       "3         QUEENS            INSIDE  N.Y. POLICE DEPT      NaN   1013552.0   \n",
       "4          BRONX           UNKNOWN  N.Y. POLICE DEPT      NaN   1005028.0   \n",
       "\n",
       "   Y_COORD_CD   Latitude  Longitude                        Lat_Lon  \\\n",
       "0    247458.0  40.845868 -73.915888   (40.84586773, -73.915888033)   \n",
       "1    167738.0  40.627061 -74.077149  (40.627060894, -74.077149232)   \n",
       "2    231089.0  40.800966 -73.969047  (40.800965968, -73.969047272)   \n",
       "3    210803.0  40.745242 -73.894253  (40.745241809, -73.894253382)   \n",
       "4    234516.0  40.810352 -73.924942  (40.810351863, -73.924942326)   \n",
       "\n",
       "  VIC_AGE_GROUP                  VIC_RACE VIC_SEX  \n",
       "0         25-44            WHITE HISPANIC       F  \n",
       "1         45-64                     WHITE       M  \n",
       "2       UNKNOWN                   UNKNOWN       E  \n",
       "3         45-64  ASIAN / PACIFIC ISLANDER       M  \n",
       "4       UNKNOWN                   UNKNOWN       E  "
      ]
     },
     "execution_count": 9,
     "metadata": {},
     "output_type": "execute_result"
    }
   ],
   "source": [
    "#replacing all NaN values in 'LOC_OF_OCCUR_DESC' with UNKNOWN\n",
    "df.fillna({'LOC_OF_OCCUR_DESC':'UNKNOWN'}, inplace=True)\n",
    "\n",
    "#replacing all NaN values in 'VIC_RACE' with UNKNOWN\n",
    "df.fillna({'VIC_RACE':'UNKNOWN'}, inplace=True)\n",
    "\n",
    "#replacing all NaN values in 'VIC_AGE_GROUP' with UNKNOWN\n",
    "df.fillna({'VIC_AGE_GROUP':'UNKNOWN'}, inplace=True)\n",
    "\n",
    "#replacing all NaN values in 'VIC_SEX' with UNKNOWN\n",
    "df.fillna({'VIC_SEX':'UNKNOWN'}, inplace=True)\n",
    "\n",
    "\n",
    "#check the changes\n",
    "df.head()"
   ]
  },
  {
   "cell_type": "markdown",
   "id": "68cd9795",
   "metadata": {},
   "source": [
    "Descriptions of the crimes are quite hard to understand, I wanted to break it down into layman's terms"
   ]
  },
  {
   "cell_type": "code",
   "execution_count": 10,
   "id": "87012b94-f664-4e61-8bdb-20b3e22af515",
   "metadata": {},
   "outputs": [
    {
     "name": "stdout",
     "output_type": "stream",
     "text": [
      "['HARRASSMENT 2' 'CRIMINAL MISCHIEF & RELATED OF' 'DANGEROUS WEAPONS'\n",
      " 'GRAND LARCENY' 'PETIT LARCENY' 'ASSAULT 3 & RELATED OFFENSES' 'FORGERY'\n",
      " 'DANGEROUS DRUGS' 'OFF. AGNST PUB ORD SENSBLTY &' 'FELONY ASSAULT'\n",
      " 'INTOXICATED & IMPAIRED DRIVING' 'VEHICLE AND TRAFFIC LAWS' 'BURGLARY'\n",
      " 'OFFENSES AGAINST PUBLIC ADMINI' 'ROBBERY' 'RAPE'\n",
      " 'OFFENSES AGAINST THE PERSON' 'MISCELLANEOUS PENAL LAW'\n",
      " 'OTHER STATE LAWS (NON PENAL LA' 'GRAND LARCENY OF MOTOR VEHICLE'\n",
      " \"BURGLAR'S TOOLS\" 'CRIMINAL TRESPASS' 'POSSESSION OF STOLEN PROPERTY'\n",
      " 'THEFT-FRAUD' 'THEFT OF SERVICES' 'ARSON' 'ADMINISTRATIVE CODE'\n",
      " 'OFFENSES INVOLVING FRAUD' 'UNAUTHORIZED USE OF A VEHICLE'\n",
      " 'OTHER OFFENSES RELATED TO THEF' 'FRAUDS' 'SEX CRIMES'\n",
      " 'OFFENSES RELATED TO CHILDREN' 'OFFENSES AGAINST PUBLIC SAFETY'\n",
      " 'DISORDERLY CONDUCT' 'GAMBLING' 'NYS LAWS-UNCLASSIFIED FELONY'\n",
      " 'ALCOHOLIC BEVERAGE CONTROL LAW' 'FRAUDULENT ACCOSTING'\n",
      " 'OTHER STATE LAWS' 'JOSTLING' 'PETIT LARCENY OF MOTOR VEHICLE'\n",
      " 'PROSTITUTION & RELATED OFFENSES' 'ENDAN WELFARE INCOMP'\n",
      " 'KIDNAPPING & RELATED OFFENSES' 'AGRICULTURE & MRKTS LAW-UNCLASSIFIED'\n",
      " 'DISRUPTION OF A RELIGIOUS SERV' 'INTOXICATED/IMPAIRED DRIVING'\n",
      " 'LOITERING/GAMBLING (CARDS, DIC' 'CHILD ABANDONMENT/NON SUPPORT'\n",
      " 'HOMICIDE-NEGLIGENT,UNCLASSIFIE' 'ANTICIPATORY OFFENSES'\n",
      " 'FORTUNE TELLING' 'OTHER TRAFFIC INFRACTION'\n",
      " 'NYS LAWS-UNCLASSIFIED VIOLATION' 'NEW YORK CITY HEALTH CODE'\n",
      " 'HOMICIDE-NEGLIGENT-VEHICLE' 'ESCAPE 3' 'UNLAWFUL POSS. WEAP. ON SCHOOL'\n",
      " 'KIDNAPPING' 'OTHER STATE LAWS (NON PENAL LAW)'\n",
      " 'KIDNAPPING AND RELATED OFFENSES' 'FELONY SEX CRIMES' 'LOITERING'\n",
      " 'OFFENSES AGAINST MARRIAGE UNCL' 'ABORTION'\n",
      " 'UNDER THE INFLUENCE OF DRUGS' 'ADMINISTRATIVE CODES'\n",
      " 'LOITERING FOR DRUG PURPOSES' 'LOITERING/DEVIATE SEX']\n"
     ]
    }
   ],
   "source": [
    "print(df.OFNS_DESC.unique())\n",
    "\n",
    "df_clean = df.replace({'HARRASSMENT 2': 'HARASSMENT', 'ESCAPE 3': 'ESCAPE','ASSAULT 3 & RELATED OFFENSES':\n",
    "    'ASSAULT & RELATED OFFENSES','CRIMINAL MISCHIEF & RELATED OF': 'CRIMINAL MISCHIEF','OFF. AGNST PUB ORD SENSBLTY &':\n",
    "    'OFFENSES AGAINST PUBLIC ORDER/ADMINISTRATION', 'OTHER STATE LAWS (NON PENAL LA': 'OTHER STATE LAWS (NON PENAL LAW)',\n",
    "                       'ENDAN WELFARE INCOMP': 'ENDANGERING WELFARE OF INCOMPETENT',\n",
    "'AGRICULTURE & MRKTS LAW-UNCLASSIFIED': 'AGRICULTURE & MARKETS LAW','DISRUPTION OF A RELIGIOUS SERV': 'DISRUPTION OF A RELIGIOUS SERVICE',\n",
    "                       'LOITERING/GAMBLING (CARDS, DIC': 'GAMBLING', 'OFFENSES AGAINST MARRIAGE UNCL': 'OFFENSES AGAINST MARRIAGE', 'HOMICIDE-NEGLIGENT,UNCLASSIFIE': 'HOMICIDE-NEGLIGENT','E': 'UNKNOWN',\n",
    "                       'D': 'BUSINESS/ORGANIZATION','F': 'FEMALE','M': 'MALE'}).copy()"
   ]
  },
  {
   "cell_type": "code",
   "execution_count": 11,
   "id": "0fec1fd3-a06b-4c6b-b559-e4b361f2f39d",
   "metadata": {
    "scrolled": true
   },
   "outputs": [
    {
     "data": {
      "text/plain": [
       "array(['HARASSMENT', 'CRIMINAL MISCHIEF', 'DANGEROUS WEAPONS',\n",
       "       'GRAND LARCENY', 'PETIT LARCENY', 'ASSAULT & RELATED OFFENSES',\n",
       "       'FORGERY', 'DANGEROUS DRUGS',\n",
       "       'OFFENSES AGAINST PUBLIC ORDER/ADMINISTRATION', 'FELONY ASSAULT',\n",
       "       'INTOXICATED & IMPAIRED DRIVING', 'VEHICLE AND TRAFFIC LAWS',\n",
       "       'BURGLARY', 'OFFENSES AGAINST PUBLIC ADMINI', 'ROBBERY', 'RAPE',\n",
       "       'OFFENSES AGAINST THE PERSON', 'MISCELLANEOUS PENAL LAW',\n",
       "       'OTHER STATE LAWS (NON PENAL LAW)',\n",
       "       'GRAND LARCENY OF MOTOR VEHICLE', \"BURGLAR'S TOOLS\",\n",
       "       'CRIMINAL TRESPASS', 'POSSESSION OF STOLEN PROPERTY',\n",
       "       'THEFT-FRAUD', 'THEFT OF SERVICES', 'ARSON', 'ADMINISTRATIVE CODE',\n",
       "       'OFFENSES INVOLVING FRAUD', 'UNAUTHORIZED USE OF A VEHICLE',\n",
       "       'OTHER OFFENSES RELATED TO THEF', 'FRAUDS', 'SEX CRIMES',\n",
       "       'OFFENSES RELATED TO CHILDREN', 'OFFENSES AGAINST PUBLIC SAFETY',\n",
       "       'DISORDERLY CONDUCT', 'GAMBLING', 'NYS LAWS-UNCLASSIFIED FELONY',\n",
       "       'ALCOHOLIC BEVERAGE CONTROL LAW', 'FRAUDULENT ACCOSTING',\n",
       "       'OTHER STATE LAWS', 'JOSTLING', 'PETIT LARCENY OF MOTOR VEHICLE',\n",
       "       'PROSTITUTION & RELATED OFFENSES',\n",
       "       'ENDANGERING WELFARE OF INCOMPETENT',\n",
       "       'KIDNAPPING & RELATED OFFENSES', 'AGRICULTURE & MARKETS LAW',\n",
       "       'DISRUPTION OF A RELIGIOUS SERVICE',\n",
       "       'INTOXICATED/IMPAIRED DRIVING', 'CHILD ABANDONMENT/NON SUPPORT',\n",
       "       'HOMICIDE-NEGLIGENT', 'ANTICIPATORY OFFENSES', 'FORTUNE TELLING',\n",
       "       'OTHER TRAFFIC INFRACTION', 'NYS LAWS-UNCLASSIFIED VIOLATION',\n",
       "       'NEW YORK CITY HEALTH CODE', 'HOMICIDE-NEGLIGENT-VEHICLE',\n",
       "       'ESCAPE', 'UNLAWFUL POSS. WEAP. ON SCHOOL', 'KIDNAPPING',\n",
       "       'KIDNAPPING AND RELATED OFFENSES', 'FELONY SEX CRIMES',\n",
       "       'LOITERING', 'OFFENSES AGAINST MARRIAGE', 'ABORTION',\n",
       "       'UNDER THE INFLUENCE OF DRUGS', 'ADMINISTRATIVE CODES',\n",
       "       'LOITERING FOR DRUG PURPOSES', 'LOITERING/DEVIATE SEX'],\n",
       "      dtype=object)"
      ]
     },
     "execution_count": 11,
     "metadata": {},
     "output_type": "execute_result"
    }
   ],
   "source": [
    "df_clean.OFNS_DESC.unique()"
   ]
  },
  {
   "cell_type": "markdown",
   "id": "7a81fd6c",
   "metadata": {},
   "source": [
    "# Data Exploration"
   ]
  },
  {
   "cell_type": "markdown",
   "id": "94d6da7f",
   "metadata": {},
   "source": [
    "## Types of Crimes Committed"
   ]
  },
  {
   "cell_type": "markdown",
   "id": "f15a6112",
   "metadata": {},
   "source": [
    "I wanted to see the top 10 most committed crimes in New York City from 2006 to 2019."
   ]
  },
  {
   "cell_type": "code",
   "execution_count": 12,
   "id": "a029acbb-f969-4ff0-9a13-59aa36b870f7",
   "metadata": {},
   "outputs": [
    {
     "data": {
      "text/plain": [
       "PETIT LARCENY                                   1160968\n",
       "HARASSMENT                                       877249\n",
       "ASSAULT & RELATED OFFENSES                       728839\n",
       "CRIMINAL MISCHIEF                                696579\n",
       "GRAND LARCENY                                    604392\n",
       "DANGEROUS DRUGS                                  417571\n",
       "OFFENSES AGAINST PUBLIC ORDER/ADMINISTRATION     367052\n",
       "FELONY ASSAULT                                   264961\n",
       "ROBBERY                                          252615\n",
       "BURGLARY                                         238099\n",
       "Name: OFNS_DESC, dtype: int64"
      ]
     },
     "execution_count": 12,
     "metadata": {},
     "output_type": "execute_result"
    }
   ],
   "source": [
    "df_clean.OFNS_DESC.value_counts().iloc[:10]"
   ]
  },
  {
   "cell_type": "markdown",
   "id": "4137f6ca",
   "metadata": {},
   "source": [
    "I wanted to display a graph that showed crimes that occured most frequently."
   ]
  },
  {
   "cell_type": "code",
   "execution_count": 13,
   "id": "f755a8e5-a25e-4f38-8ee0-2c4b3ee152f8",
   "metadata": {},
   "outputs": [
    {
     "data": {
      "image/png": "[encoded data removed]",
      "text/plain": [
       "<Figure size 432x288 with 1 Axes>"
      ]
     },
     "metadata": {
      "needs_background": "light"
     },
     "output_type": "display_data"
    }
   ],
   "source": [
    "# Horizontal Bar Chart of Crime Types in 10's of thousands e.g. 0.2 = 20,000 \n",
    "df_clean.OFNS_DESC.value_counts().iloc[:10].sort_values().plot(kind=\"barh\",title = \"Types of Crimes\",color='limegreen')\n",
    "plt.show()"
   ]
  },
  {
   "cell_type": "markdown",
   "id": "db7dc390",
   "metadata": {},
   "source": [
    "Horizontal Bar Chart of Crime Types in 10's of thousands e.g. 0.2 = 20,000 \n",
    "\n",
    "Petit Larceny is the crime with the highest reports with over 1.2 million reports. It is the stealing of a possession worth under fifty dollars e.g. shoplifting. "
   ]
  },
  {
   "cell_type": "markdown",
   "id": "0950c0a7",
   "metadata": {},
   "source": [
    "## Level of Offences: Violation, Misdemeanor & Felony"
   ]
  },
  {
   "cell_type": "markdown",
   "id": "b4ced083",
   "metadata": {},
   "source": [
    "The three levels of offence in America are misdemeanor, violation and felony. This pie chart shows the percentage of each level of offence in the data."
   ]
  },
  {
   "cell_type": "markdown",
   "id": "8c982fc0",
   "metadata": {},
   "source": [
    "Misdemeanor arrests have also grown substantially in recent decades, more than\n",
    "doubling between 1972 and 2006 (Boruchowitz et al. 2009; Roberts 2011), at the same\n",
    "time that felony arrests decreased in cities across the nation (Roeder et al. 2015; Zimring\n",
    "2012). "
   ]
  },
  {
   "cell_type": "code",
   "execution_count": 14,
   "id": "47cc77fc-9fe2-45b6-91a1-ddba203d8859",
   "metadata": {
    "scrolled": true
   },
   "outputs": [
    {
     "data": {
      "image/png": "[encoded data removed]",
      "text/plain": [
       "<Figure size 720x360 with 1 Axes>"
      ]
     },
     "metadata": {},
     "output_type": "display_data"
    }
   ],
   "source": [
    "# Pie Chart of the three levels of offense in America; misdemeanor, violation and felony\n",
    "\n",
    "labels=['Violation','Felony','Misdemeanor']\n",
    "df_clean['LAW_CAT_CD'].value_counts().sort_values().plot(kind='pie', subplots=True, colors=['lightblue','seagreen','yellow'], shadow = True,startangle=45,\n",
    "figsize=(10,5), autopct='%1.1f%%', explode=(0,0.1,0), labels=['','','',''], title = 'Level of Offense')\n",
    "\n",
    "plt.legend(labels, loc=\"best\")\n",
    "\n",
    "plt.show()"
   ]
  },
  {
   "cell_type": "markdown",
   "id": "75c519cb",
   "metadata": {},
   "source": [
    "As you can see in the pie chart, the offense that is committed the most is misdemeanor.\n",
    "A misdemeanor is any crime that carries a potential punishment of prison for more than 15 days but less than 365 days.\n",
    "\n",
    "Historically, sociologists have mostly studied felonies but in recent years the importance of studying misdemeanors has been acknowledged - <i>\"The recent slew of highly-publicized negative police/citizen encounters, often precipitated by low-level enforcement have shone a spotlight on the urgent need to better understand\n",
    "low-level enforcement practices from all perspectives.\"</i> (Barrett, C.J. and Welsh, M., 2018.)\n",
    "\n",
    "According to (Harcourt, B.E. and Ludwig, J., 2006) this is to do with the <b>Broken Windows Theory</b>, which is when the focus is on police problem-solving e.g. police will 'crack down' on minor crimes such as vandalism in order to create a vision of law and order. \n",
    "\n",
    "The <b>Broken Windows Theory</b> has led to <b>disproportionate arrests</b> of Black and Hispanic youths in comparison with Caucasians and it created <b>enormous financial burden</b> on the criminal justice system by diverting limited resources for social programs to punishment and incarceration. (Kamalu, N.C. and Onyeozili, E.C., 2018.)"
   ]
  },
  {
   "cell_type": "markdown",
   "id": "7a079d81",
   "metadata": {},
   "source": [
    "# Crime by Time: Hours, Months, Years"
   ]
  },
  {
   "cell_type": "markdown",
   "id": "55c577ed",
   "metadata": {},
   "source": [
    "## Crime by the Hour:"
   ]
  },
  {
   "cell_type": "code",
   "execution_count": 15,
   "id": "0536e07c",
   "metadata": {},
   "outputs": [
    {
     "data": {
      "text/plain": [
       "<AxesSubplot:title={'center':'Hourly Breakdown of Crime Reports'}, xlabel='hours'>"
      ]
     },
     "execution_count": 15,
     "metadata": {},
     "output_type": "execute_result"
    },
    {
     "data": {
      "image/png": "[encoded data removed]",
      "text/plain": [
       "<Figure size 432x288 with 1 Axes>"
      ]
     },
     "metadata": {
      "needs_background": "light"
     },
     "output_type": "display_data"
    }
   ],
   "source": [
    "#reports by hour\n",
    "df_clean['byhour'] = df_clean['CMPLNT_FR_TM'].str.findall('(\\d{2})').apply(lambda x: x[0])\n",
    "df_clean.groupby('byhour').size().plot(kind = 'bar', title ='Hourly Breakdown of Crime Reports', color = 'chartreuse', xlabel = 'hours',rot=0)\n",
    "\n"
   ]
  },
  {
   "cell_type": "markdown",
   "id": "e2769f10",
   "metadata": {},
   "source": [
    "Crime rates are especially low between 5am and 6am. \n",
    "\n",
    "Between 12pm and 6pm is when most crime events take place; suprisingly crime rates are higher during the day rather than night. \n",
    "\n",
    "For example, there are more recorded crimes at 3pm than 11pm. I will analyse this in more detail in my report. "
   ]
  },
  {
   "cell_type": "markdown",
   "id": "08b70bca",
   "metadata": {},
   "source": [
    "## Crime by Month:"
   ]
  },
  {
   "cell_type": "code",
   "execution_count": 16,
   "id": "ed807e6b-0eda-430b-b23c-577c1069f8f9",
   "metadata": {},
   "outputs": [
    {
     "data": {
      "text/plain": [
       "<AxesSubplot:title={'center':'Total Crime Reports by Month'}, xlabel='bymonth'>"
      ]
     },
     "execution_count": 16,
     "metadata": {},
     "output_type": "execute_result"
    },
    {
     "data": {
      "image/png": "[encoded data removed]",
      "text/plain": [
       "<Figure size 432x288 with 1 Axes>"
      ]
     },
     "metadata": {
      "needs_background": "light"
     },
     "output_type": "display_data"
    }
   ],
   "source": [
    "\n",
    "df_clean['bymonth'] = df_clean['RPT_DT'].str.findall('(\\d{2})').apply(lambda x: x[0])\n",
    "df_clean.groupby('bymonth').size().plot(kind = 'bar', title ='Total Crime Reports by Month', color = 'olivedrab',rot=0)\n"
   ]
  },
  {
   "cell_type": "markdown",
   "id": "c623b463",
   "metadata": {},
   "source": [
    "As shown in the graph, there is a positive correlation between crime and weather (Cohn, E.G., 1990.)The relationship between temperature and crime\n",
    "has a rich history within the social sciences dating to the\n",
    "1800s and the work of the moral statisticians (Quetelet, 1984.)\n",
    "\n",
    "In warmer months, more crime takes place. Especially crimes such as robbery, larceny and assault. This is because <b><i>hot temperatures</b></i> cause a type of <b><i>discomfort</i></b> that may make people behave\n",
    "<b><i>aggressively</i></b>. (Agnew (2012, 27–29.)) \n",
    "\n",
    "According to Lynch, M.J., Stretesky, P.B. and Long, M.A., 2020., the positive correlation between temperature and crime could mean that due to Climate Change, rates of crime (and especially violent crime such as assault) may rise. <i>\"Long-term temperature increases could contribute 35 000 murders to the U.S.\n",
    "crime rate over the next 90 years (Ranson 2014).</i>"
   ]
  },
  {
   "cell_type": "markdown",
   "id": "2ee42e18",
   "metadata": {},
   "source": [
    "## Crime Over the Years:"
   ]
  },
  {
   "cell_type": "code",
   "execution_count": 17,
   "id": "ddde0724",
   "metadata": {},
   "outputs": [
    {
     "data": {
      "text/plain": [
       "<AxesSubplot:title={'center':'Total Crime Reports by Year'}, xlabel='Year'>"
      ]
     },
     "execution_count": 17,
     "metadata": {},
     "output_type": "execute_result"
    },
    {
     "data": {
      "image/png": "[encoded data removed]",
      "text/plain": [
       "<Figure size 432x288 with 1 Axes>"
      ]
     },
     "metadata": {
      "needs_background": "light"
     },
     "output_type": "display_data"
    }
   ],
   "source": [
    "# Graph showing the total number of crimes per year over the years\n",
    "df_clean['byyear'] = df_clean['RPT_DT'].str.findall(r'(\\d{4})').apply(lambda x: x[0])\n",
    "df_clean['byyear'].value_counts().plot(kind=\"line\", xlabel='Year', color=['darkolivegreen'], title = \"Total Crime Reports by Year\")"
   ]
  },
  {
   "cell_type": "markdown",
   "id": "9edc08a2",
   "metadata": {},
   "source": [
    "Over the years, crime rates have been consistenly dropping in New York City, as you can see in the graph from the years 2006 to 2017. \n",
    "\n",
    "Between 2001 and 2010, violent crime dropped 37.2% and property crime declined 37.0%. (David Weisburd, Cody W. Telep & Brian A. Lawton)\n",
    "\n",
    "Researchers say that one of the many factors that contributed to this is the controversial <b>Stop-And-Frisk Policy</b> whereby police officers were allowed to stop, question and frisk an individual if they seemed in any way suspicious or were suspected to be carrying weapons or other contraband (Levchak, P.J., 2021.)\n",
    "\n",
    "Stop-and-frisk in New York City:, this led to the policy coming under fire as it is a tool for <b>racial profiling</b>. (Khan, M.R., Kapadia, F., Geller, A., Mazumdar, M., Scheidell, J.D., Krause, K.D., Martino, R.J., Cleland, C.M., Dyer, T.V., Ompad, D.C. and Halkitis, P.N., 2021.)\n",
    "\n",
    "It might be worth adding that, crime is recently <b>on the rise</b> in New York as of 2022. Reports have been released from February 2022 and almost all crime rates have risen (from the NYPD website)"
   ]
  },
  {
   "cell_type": "markdown",
   "id": "8e71e799",
   "metadata": {},
   "source": [
    "## Analysing Sexual Assaults and Gender-Based Violence in New York City"
   ]
  },
  {
   "cell_type": "code",
   "execution_count": 18,
   "id": "8443496e-e437-40d8-a672-26a6475b5871",
   "metadata": {},
   "outputs": [
    {
     "data": {
      "text/html": [
       "<div>\n",
       "<style scoped>\n",
       "    .dataframe tbody tr th:only-of-type {\n",
       "        vertical-align: middle;\n",
       "    }\n",
       "\n",
       "    .dataframe tbody tr th {\n",
       "        vertical-align: top;\n",
       "    }\n",
       "\n",
       "    .dataframe thead th {\n",
       "        text-align: right;\n",
       "    }\n",
       "</style>\n",
       "<table border=\"1\" class=\"dataframe\">\n",
       "  <thead>\n",
       "    <tr style=\"text-align: right;\">\n",
       "      <th></th>\n",
       "      <th>CMPLNT_NUM</th>\n",
       "      <th>CMPLNT_FR_DT</th>\n",
       "      <th>CMPLNT_FR_TM</th>\n",
       "      <th>RPT_DT</th>\n",
       "      <th>KY_CD</th>\n",
       "      <th>OFNS_DESC</th>\n",
       "      <th>CRM_ATPT_CPTD_CD</th>\n",
       "      <th>LAW_CAT_CD</th>\n",
       "      <th>BORO_NM</th>\n",
       "      <th>LOC_OF_OCCUR_DESC</th>\n",
       "      <th>...</th>\n",
       "      <th>Y_COORD_CD</th>\n",
       "      <th>Latitude</th>\n",
       "      <th>Longitude</th>\n",
       "      <th>Lat_Lon</th>\n",
       "      <th>VIC_AGE_GROUP</th>\n",
       "      <th>VIC_RACE</th>\n",
       "      <th>VIC_SEX</th>\n",
       "      <th>byhour</th>\n",
       "      <th>bymonth</th>\n",
       "      <th>byyear</th>\n",
       "    </tr>\n",
       "  </thead>\n",
       "  <tbody>\n",
       "    <tr>\n",
       "      <th>59</th>\n",
       "      <td>659576310</td>\n",
       "      <td>05/10/2016</td>\n",
       "      <td>10:00:00</td>\n",
       "      <td>05/10/2016</td>\n",
       "      <td>104</td>\n",
       "      <td>RAPE</td>\n",
       "      <td>ATTEMPTED</td>\n",
       "      <td>FELONY</td>\n",
       "      <td>BRONX</td>\n",
       "      <td>FRONT OF</td>\n",
       "      <td>...</td>\n",
       "      <td>251236.0</td>\n",
       "      <td>40.856163</td>\n",
       "      <td>-73.844397</td>\n",
       "      <td>(40.856162957, -73.844397124)</td>\n",
       "      <td>&lt;18</td>\n",
       "      <td>WHITE HISPANIC</td>\n",
       "      <td>FEMALE</td>\n",
       "      <td>10</td>\n",
       "      <td>05</td>\n",
       "      <td>2016</td>\n",
       "    </tr>\n",
       "    <tr>\n",
       "      <th>355</th>\n",
       "      <td>248026406</td>\n",
       "      <td>04/06/2013</td>\n",
       "      <td>21:30:00</td>\n",
       "      <td>04/07/2013</td>\n",
       "      <td>104</td>\n",
       "      <td>RAPE</td>\n",
       "      <td>COMPLETED</td>\n",
       "      <td>FELONY</td>\n",
       "      <td>QUEENS</td>\n",
       "      <td>INSIDE</td>\n",
       "      <td>...</td>\n",
       "      <td>196938.0</td>\n",
       "      <td>40.707047</td>\n",
       "      <td>-73.792612</td>\n",
       "      <td>(40.707047475, -73.792611904)</td>\n",
       "      <td>25-44</td>\n",
       "      <td>BLACK</td>\n",
       "      <td>FEMALE</td>\n",
       "      <td>21</td>\n",
       "      <td>04</td>\n",
       "      <td>2013</td>\n",
       "    </tr>\n",
       "    <tr>\n",
       "      <th>446</th>\n",
       "      <td>964712641</td>\n",
       "      <td>09/24/2017</td>\n",
       "      <td>15:45:00</td>\n",
       "      <td>09/24/2017</td>\n",
       "      <td>233</td>\n",
       "      <td>SEX CRIMES</td>\n",
       "      <td>COMPLETED</td>\n",
       "      <td>MISDEMEANOR</td>\n",
       "      <td>QUEENS</td>\n",
       "      <td>FRONT OF</td>\n",
       "      <td>...</td>\n",
       "      <td>205267.0</td>\n",
       "      <td>40.729939</td>\n",
       "      <td>-73.810433</td>\n",
       "      <td>(40.729939364, -73.810433142)</td>\n",
       "      <td>18-24</td>\n",
       "      <td>WHITE HISPANIC</td>\n",
       "      <td>FEMALE</td>\n",
       "      <td>15</td>\n",
       "      <td>09</td>\n",
       "      <td>2017</td>\n",
       "    </tr>\n",
       "    <tr>\n",
       "      <th>544</th>\n",
       "      <td>713600785</td>\n",
       "      <td>06/02/2015</td>\n",
       "      <td>22:30:00</td>\n",
       "      <td>06/03/2015</td>\n",
       "      <td>233</td>\n",
       "      <td>SEX CRIMES</td>\n",
       "      <td>COMPLETED</td>\n",
       "      <td>MISDEMEANOR</td>\n",
       "      <td>BROOKLYN</td>\n",
       "      <td>UNKNOWN</td>\n",
       "      <td>...</td>\n",
       "      <td>193571.0</td>\n",
       "      <td>40.697964</td>\n",
       "      <td>-73.918083</td>\n",
       "      <td>(40.697963515, -73.918083362)</td>\n",
       "      <td>UNKNOWN</td>\n",
       "      <td>UNKNOWN</td>\n",
       "      <td>UNKNOWN</td>\n",
       "      <td>22</td>\n",
       "      <td>06</td>\n",
       "      <td>2015</td>\n",
       "    </tr>\n",
       "    <tr>\n",
       "      <th>554</th>\n",
       "      <td>921800581</td>\n",
       "      <td>10/05/2017</td>\n",
       "      <td>20:38:00</td>\n",
       "      <td>10/05/2017</td>\n",
       "      <td>233</td>\n",
       "      <td>SEX CRIMES</td>\n",
       "      <td>COMPLETED</td>\n",
       "      <td>MISDEMEANOR</td>\n",
       "      <td>STATEN ISLAND</td>\n",
       "      <td>FRONT OF</td>\n",
       "      <td>...</td>\n",
       "      <td>148360.0</td>\n",
       "      <td>40.573850</td>\n",
       "      <td>-74.105496</td>\n",
       "      <td>(40.573849649, -74.105496156)</td>\n",
       "      <td>25-44</td>\n",
       "      <td>WHITE</td>\n",
       "      <td>FEMALE</td>\n",
       "      <td>20</td>\n",
       "      <td>10</td>\n",
       "      <td>2017</td>\n",
       "    </tr>\n",
       "  </tbody>\n",
       "</table>\n",
       "<p>5 rows × 23 columns</p>\n",
       "</div>"
      ],
      "text/plain": [
       "     CMPLNT_NUM CMPLNT_FR_DT CMPLNT_FR_TM      RPT_DT  KY_CD   OFNS_DESC  \\\n",
       "59    659576310   05/10/2016     10:00:00  05/10/2016    104        RAPE   \n",
       "355   248026406   04/06/2013     21:30:00  04/07/2013    104        RAPE   \n",
       "446   964712641   09/24/2017     15:45:00  09/24/2017    233  SEX CRIMES   \n",
       "544   713600785   06/02/2015     22:30:00  06/03/2015    233  SEX CRIMES   \n",
       "554   921800581   10/05/2017     20:38:00  10/05/2017    233  SEX CRIMES   \n",
       "\n",
       "    CRM_ATPT_CPTD_CD   LAW_CAT_CD        BORO_NM LOC_OF_OCCUR_DESC  ...  \\\n",
       "59         ATTEMPTED       FELONY          BRONX          FRONT OF  ...   \n",
       "355        COMPLETED       FELONY         QUEENS            INSIDE  ...   \n",
       "446        COMPLETED  MISDEMEANOR         QUEENS          FRONT OF  ...   \n",
       "544        COMPLETED  MISDEMEANOR       BROOKLYN           UNKNOWN  ...   \n",
       "554        COMPLETED  MISDEMEANOR  STATEN ISLAND          FRONT OF  ...   \n",
       "\n",
       "    Y_COORD_CD   Latitude  Longitude                        Lat_Lon  \\\n",
       "59    251236.0  40.856163 -73.844397  (40.856162957, -73.844397124)   \n",
       "355   196938.0  40.707047 -73.792612  (40.707047475, -73.792611904)   \n",
       "446   205267.0  40.729939 -73.810433  (40.729939364, -73.810433142)   \n",
       "544   193571.0  40.697964 -73.918083  (40.697963515, -73.918083362)   \n",
       "554   148360.0  40.573850 -74.105496  (40.573849649, -74.105496156)   \n",
       "\n",
       "     VIC_AGE_GROUP        VIC_RACE  VIC_SEX byhour bymonth byyear  \n",
       "59             <18  WHITE HISPANIC   FEMALE     10      05   2016  \n",
       "355          25-44           BLACK   FEMALE     21      04   2013  \n",
       "446          18-24  WHITE HISPANIC   FEMALE     15      09   2017  \n",
       "544        UNKNOWN         UNKNOWN  UNKNOWN     22      06   2015  \n",
       "554          25-44           WHITE   FEMALE     20      10   2017  \n",
       "\n",
       "[5 rows x 23 columns]"
      ]
     },
     "execution_count": 18,
     "metadata": {},
     "output_type": "execute_result"
    }
   ],
   "source": [
    "# Analysing the Assault section -\n",
    "sexualassault_crimes = df_clean[df.OFNS_DESC.str.contains('RAPE|SEX CRIMES')]\n",
    "sexualassault_crimes.head()"
   ]
  },
  {
   "cell_type": "markdown",
   "id": "47dede72",
   "metadata": {},
   "source": [
    "## Sexual Assault Reports by Year"
   ]
  },
  {
   "cell_type": "code",
   "execution_count": 19,
   "id": "9300496c-098d-4b7c-a112-cc3c35c94c12",
   "metadata": {},
   "outputs": [
    {
     "name": "stdout",
     "output_type": "stream",
     "text": [
      "7443.64\n"
     ]
    },
    {
     "data": {
      "image/png": "[encoded data removed]",
      "text/plain": [
       "<Figure size 432x288 with 1 Axes>"
      ]
     },
     "metadata": {
      "needs_background": "light"
     },
     "output_type": "display_data"
    }
   ],
   "source": [
    "#plot graph\n",
    "sexualassault_crimes.groupby('byyear').size().plot(kind = 'bar',ylabel='Reports by 1,000', xlabel='Year',rot=45, color = 'forestgreen', title = 'Sexual Assault Reports by Year')\n",
    "\n",
    "#average assault reports per year\n",
    "mean = sexualassault_crimes['byyear'].value_counts().mean()\n",
    "print(round(mean,2))"
   ]
  },
  {
   "cell_type": "markdown",
   "id": "6522b0a8",
   "metadata": {},
   "source": [
    "Sexual assault reports have constantly risen since 2013 - there is an average of 7,443 victims of sexual assault per year.\n",
    "\n",
    "It is worth noting that 63% of sexual assaults are not reported to the police.\n",
    "Out of every 1000 rapes, only about  50 lead to an arrest or conviction."
   ]
  },
  {
   "cell_type": "code",
   "execution_count": 20,
   "id": "7b12fd05-c4ce-4582-b905-745b55ee44d6",
   "metadata": {},
   "outputs": [
    {
     "data": {
      "text/plain": [
       "<AxesSubplot:title={'center':'Sexual Assault Reports by Hour'}, xlabel='Hour'>"
      ]
     },
     "execution_count": 20,
     "metadata": {},
     "output_type": "execute_result"
    },
    {
     "data": {
      "image/png": "[encoded data removed]",
      "text/plain": [
       "<Figure size 432x288 with 1 Axes>"
      ]
     },
     "metadata": {
      "needs_background": "light"
     },
     "output_type": "display_data"
    }
   ],
   "source": [
    "#plot graph\n",
    "sexualassault_crimes.groupby('byhour').size().plot(kind = 'bar', color = 'yellowgreen', xlabel='Hour', rot=0, title = 'Sexual Assault Reports by Hour')"
   ]
  },
  {
   "cell_type": "markdown",
   "id": "5322dee6",
   "metadata": {},
   "source": [
    "The highest reports of sexual assault happen between midnight and 1am. There is also a spike at 8am, and 12pm, this could possibly be due to people leaving their houses for work and lunch - walking around the city"
   ]
  },
  {
   "cell_type": "code",
   "execution_count": 21,
   "id": "53f26f88",
   "metadata": {},
   "outputs": [
    {
     "name": "stdout",
     "output_type": "stream",
     "text": [
      "CENTRAL PARK                      57\n",
      "CONEY ISLAND BEACH & BOARDWALK    33\n",
      "PROSPECT PARK                     23\n",
      "FLUSHING MEADOWS CORONA PARK      18\n",
      "RIVERSIDE PARK                    13\n",
      "Name: PARKS_NM, dtype: int64\n"
     ]
    },
    {
     "data": {
      "image/png": "[encoded data removed]",
      "text/plain": [
       "<Figure size 432x288 with 1 Axes>"
      ]
     },
     "metadata": {
      "needs_background": "light"
     },
     "output_type": "display_data"
    }
   ],
   "source": [
    "# Graph of Assaults in Parks\n",
    "sexualassault_crimes['PARKS_NM'].value_counts().iloc[:5].plot(kind=\"barh\",  color = 'olivedrab', title = 'Sexual Assault Crime in Parks',rot=0)\n",
    "\n",
    "vic_park_per = sexualassault_crimes['PARKS_NM'].value_counts().iloc[:5] \n",
    "print(vic_park_per)"
   ]
  },
  {
   "cell_type": "markdown",
   "id": "38899d5b",
   "metadata": {},
   "source": [
    "Unfortunately, due to high volume of missing data in the 'PARKS_NM' row, the exploration and visualisation of sexual assault was inconclusive. For future study on crime in New York Parks it is suggested to use a crime dataset that focuses solely on crime committed in the parks of New York City. "
   ]
  },
  {
   "cell_type": "code",
   "execution_count": 22,
   "id": "357189f9-eb72-4a83-a977-8462a16d8710",
   "metadata": {},
   "outputs": [
    {
     "name": "stdout",
     "output_type": "stream",
     "text": [
      "FEMALE                   83.200430\n",
      "MALE                     14.752761\n",
      "UNKNOWN                   1.933577\n",
      "BUSINESS/ORGANIZATION     0.113232\n",
      "Name: VIC_SEX, dtype: float64\n"
     ]
    },
    {
     "data": {
      "image/png": "[encoded data removed]",
      "text/plain": [
       "<Figure size 720x360 with 1 Axes>"
      ]
     },
     "metadata": {},
     "output_type": "display_data"
    }
   ],
   "source": [
    "#plot graph\n",
    "#sexualassault_crimes['VIC_SEX'].value_counts().iloc[:3].plot(kind=\"bar\",  color = 'darkseagreen', title = 'Sexual Assault Crime Victims by Gender', rot=0)\n",
    "labels=['Female','Male','Unknown']\n",
    "colors=['lightcoral','lightskyblue','gold']\n",
    "sexualassault_crimes['VIC_SEX'].value_counts().iloc[:3].plot(kind='pie', subplots=True, colors=colors, shadow = True, startangle=45,\n",
    "figsize=(10,5), autopct='%1.1f%%', labels=['','','',''], explode=(0,0.1,0), title = 'Sexual Assault Victims by Gender')\n",
    "\n",
    "plt.legend(labels, loc=\"best\")\n",
    "\n",
    "\n",
    "#victims by gender percentage\n",
    "vic_sex_per = sexualassault_crimes['VIC_SEX'].value_counts() / sexualassault_crimes['VIC_SEX'].shape[0] *100\n",
    "print(vic_sex_per)"
   ]
  },
  {
   "cell_type": "code",
   "execution_count": 23,
   "id": "12d0c0f3-fe37-4c32-a842-93e7302e2079",
   "metadata": {},
   "outputs": [
    {
     "name": "stdout",
     "output_type": "stream",
     "text": [
      "<18      48.853768\n",
      "25-44    22.436211\n",
      "18-24    16.443562\n",
      "45-64     4.694322\n",
      "65+       0.533533\n",
      "Name: VIC_AGE_GROUP, dtype: float64\n"
     ]
    },
    {
     "data": {
      "image/png": "[encoded data removed]",
      "text/plain": [
       "<Figure size 432x288 with 1 Axes>"
      ]
     },
     "metadata": {
      "needs_background": "light"
     },
     "output_type": "display_data"
    }
   ],
   "source": [
    "#plot graph\n",
    "age_group= [\"<18\",\"18-24\",\"25-44\",\"45-64\",\"65+\"]\n",
    "sexualassault_crimes['VIC_AGE_GROUP'].value_counts(sort=False).loc[age_group].plot(kind=\"bar\", xlabel = 'Age', color = '#2ECC71', title = 'Assault Victims by Age Group', rot=0)\n",
    "#.loc[age_group]\n",
    "#victims by age percentage\n",
    "vic_age_per = sexualassault_crimes['VIC_AGE_GROUP'].value_counts().iloc[[0,1,2,4,5]] / sexualassault_crimes['VIC_AGE_GROUP'].shape[0] *100\n",
    "print(vic_age_per)"
   ]
  },
  {
   "cell_type": "markdown",
   "id": "56f9ebfb",
   "metadata": {},
   "source": [
    "83% of all victims are female. Women are approximately four times more likely to be victims of rape, attempted rape, or sexual assault.\n",
    "\n",
    "Ages under 18 are at the highest risk for rape/sexual assault.\n",
    "\n",
    "Nearly 1 in 8 youth in a juvenile detention facility were victimized: in 80% of cases, a staff member was the perpetrator.\n",
    "\n",
    "Of the 1,224 complaints filed between 2010-2017 about incidents that took place in ICE custody, 43 were investigated."
   ]
  },
  {
   "cell_type": "code",
   "execution_count": 24,
   "id": "b1395855-4f79-40d0-9a14-a23380529321",
   "metadata": {},
   "outputs": [
    {
     "name": "stdout",
     "output_type": "stream",
     "text": [
      "BLACK                             32.870810\n",
      "WHITE HISPANIC                    28.597749\n",
      "WHITE                             16.660429\n",
      "UNKNOWN                           10.132328\n",
      "ASIAN / PACIFIC ISLANDER           5.851590\n",
      "BLACK HISPANIC                     5.600177\n",
      "AMERICAN INDIAN/ALASKAN NATIVE     0.284039\n",
      "Name: VIC_RACE, dtype: float64\n"
     ]
    },
    {
     "data": {
      "image/png": "[encoded data removed]",
      "text/plain": [
       "<Figure size 432x288 with 1 Axes>"
      ]
     },
     "metadata": {
      "needs_background": "light"
     },
     "output_type": "display_data"
    }
   ],
   "source": [
    "#plot graph\n",
    "sexualassault_crimes['VIC_RACE'].value_counts().iloc[:7].plot(kind=\"barh\", color = 'darkkhaki', rot=0, title = 'Assault Victims by Race')\n",
    "\n",
    "#victims by race percentage\n",
    "vic_race_per = sexualassault_crimes['VIC_RACE'].value_counts().iloc[:7] / sexualassault_crimes['VIC_RACE'].shape[0] *100\n",
    "print(vic_race_per)"
   ]
  },
  {
   "cell_type": "markdown",
   "id": "d3d28b4c",
   "metadata": {},
   "source": [
    "Black and White Hispanic residents are twice as likely to experience a rape/sexual assault compared to any other race.\n",
    "\n",
    "More than 20 percent of black women are raped during their lifetimes — a higher share than among women overall. (The Institute for Women's Policy Research)\n",
    "\n",
    "The struggle to protect black girls and women remains. Unfortunately, black women remain vulnerable to sexual violence due to what we call intersectionality, the systematic oppression black women experience based upon their race and gender. These institutionalized practices and policies prevent their equitable enforcement. Because of what is known as the “Strong Black Woman” archetype (Beauboeuf-Lafontant, 2009), the dangerous single story told about black women that uplifts their strength, perseverance and survival and minimizes their emotional well-being, tenderness and humanity, black women are rarely protected."
   ]
  },
  {
   "cell_type": "markdown",
   "id": "2a173e5a",
   "metadata": {},
   "source": [
    "# Conclusion"
   ]
  },
  {
   "cell_type": "markdown",
   "id": "b62692f6",
   "metadata": {},
   "source": [
    "By using Pandas, I analysed and visualised the open data of NYC Crime Incident Reports. This library proved to be a powerful tool in data analysis, and it’s a good way to start. I found very interesting information on the crime reports from New York City, and will analyse the results further using sociological methods."
   ]
  }
 ],
 "metadata": {
  "kernelspec": {
   "display_name": "Python 3 (ipykernel)",
   "language": "python",
   "name": "python3"
  },
  "language_info": {
   "codemirror_mode": {
    "name": "ipython",
    "version": 3
   },
   "file_extension": ".py",
   "mimetype": "text/x-python",
   "name": "python",
   "nbconvert_exporter": "python",
   "pygments_lexer": "ipython3",
   "version": "3.9.7"
  }
 },
 "nbformat": 4,
 "nbformat_minor": 5
}
